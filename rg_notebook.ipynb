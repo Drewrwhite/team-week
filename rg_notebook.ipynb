{
 "cells": [
  {
   "cell_type": "code",
   "execution_count": 23,
   "metadata": {},
   "outputs": [
    {
     "name": "stdout",
     "output_type": "stream",
     "text": [
      "Index(['status', 'price', 'bed', 'bath', 'acre_lot', 'full_address', 'street',\n",
      "       'city', 'state', 'zip_code', 'house_size', 'sold_date'],\n",
      "      dtype='object')\n",
      "<class 'pandas.core.frame.DataFrame'>\n",
      "RangeIndex: 923159 entries, 0 to 923158\n",
      "Data columns (total 12 columns):\n",
      " #   Column        Non-Null Count   Dtype  \n",
      "---  ------        --------------   -----  \n",
      " 0   status        923159 non-null  object \n",
      " 1   price         923088 non-null  float64\n",
      " 2   bed           791456 non-null  float64\n",
      " 3   bath          807967 non-null  float64\n",
      " 4   acre_lot      649536 non-null  float64\n",
      " 5   full_address  923159 non-null  object \n",
      " 6   street        921021 non-null  object \n",
      " 7   city          923085 non-null  object \n",
      " 8   state         923159 non-null  object \n",
      " 9   zip_code      922954 non-null  float64\n",
      " 10  house_size    625316 non-null  float64\n",
      " 11  sold_date     456396 non-null  object \n",
      "dtypes: float64(6), object(6)\n",
      "memory usage: 84.5+ MB\n"
     ]
    }
   ],
   "source": [
    "import pandas as pd\n",
    "import numpy as np\n",
    "\n",
    "real_data = pd.read_csv('./data/realtor-data.csv', header=0)\n",
    "\n",
    "# Profiling\n",
    "print(real_data.columns.unique()) # Column names\n",
    "real_data.info()"
   ]
  },
  {
   "cell_type": "code",
   "execution_count": 4,
   "metadata": {},
   "outputs": [
    {
     "data": {
      "text/plain": [
       "status\n",
       "for_sale          921528\n",
       "ready_to_build      1631\n",
       "Name: status, dtype: int64"
      ]
     },
     "execution_count": 4,
     "metadata": {},
     "output_type": "execute_result"
    }
   ],
   "source": [
    "# Profiling\n",
    "real_data.groupby(by='status').status.count()"
   ]
  },
  {
   "cell_type": "code",
   "execution_count": 20,
   "metadata": {},
   "outputs": [
    {
     "name": "stdout",
     "output_type": "stream",
     "text": [
      "884122.5224756469\n",
      "0.0\n",
      "875000000.0\n",
      "count    9.230880e+05\n",
      "mean     8.841225e+05\n",
      "std      2.623745e+06\n",
      "min      0.000000e+00\n",
      "25%      2.690000e+05\n",
      "50%      4.750000e+05\n",
      "75%      8.399000e+05\n",
      "max      8.750000e+08\n",
      "Name: price, dtype: float64\n"
     ]
    }
   ],
   "source": [
    "# Profiling price column\n",
    "print(real_data['price'].mean())\n",
    "print(real_data['price'].min())\n",
    "print(real_data['price'].max())\n",
    "print(real_data['price'].describe())"
   ]
  },
  {
   "cell_type": "code",
   "execution_count": 21,
   "metadata": {},
   "outputs": [
    {
     "name": "stdout",
     "output_type": "stream",
     "text": [
      "2141.644071157623\n",
      "100.0\n",
      "1450112.0\n",
      "count    6.253160e+05\n",
      "mean     2.141644e+03\n",
      "std      3.035327e+03\n",
      "min      1.000000e+02\n",
      "25%      1.130000e+03\n",
      "50%      1.651000e+03\n",
      "75%      2.499000e+03\n",
      "max      1.450112e+06\n",
      "Name: house_size, dtype: float64\n"
     ]
    }
   ],
   "source": [
    "# Profiling house_size column\n",
    "print(real_data['house_size'].mean())\n",
    "print(real_data['house_size'].min())\n",
    "print(real_data['house_size'].max())\n",
    "print(real_data['house_size'].describe())"
   ]
  },
  {
   "cell_type": "code",
   "execution_count": 24,
   "metadata": {},
   "outputs": [
    {
     "name": "stdout",
     "output_type": "stream",
     "text": [
      "2141.644071157623\n",
      "100.0\n",
      "1450112.0\n",
      "count    6.253160e+05\n",
      "mean     2.141644e+03\n",
      "std      3.035327e+03\n",
      "min      1.000000e+02\n",
      "25%      1.130000e+03\n",
      "50%      1.651000e+03\n",
      "75%      2.499000e+03\n",
      "max      1.450112e+06\n",
      "Name: house_size, dtype: float64\n"
     ]
    }
   ],
   "source": [
    "# Profiling house_size column\n",
    "print(real_data['house_size'].mean())\n",
    "print(real_data['house_size'].min())\n",
    "print(real_data['house_size'].max())\n",
    "print(real_data['house_size'].describe())"
   ]
  },
  {
   "cell_type": "code",
   "execution_count": 28,
   "metadata": {},
   "outputs": [
    {
     "name": "stdout",
     "output_type": "stream",
     "text": [
      "0         False\n",
      "1         False\n",
      "2         False\n",
      "3         False\n",
      "4         False\n",
      "          ...  \n",
      "923154     True\n",
      "923155     True\n",
      "923156     True\n",
      "923157     True\n",
      "923158     True\n",
      "Length: 923159, dtype: bool\n",
      "(923159, 12)\n",
      "(113789, 12)\n"
     ]
    }
   ],
   "source": [
    "print(real_data.duplicated()) # Check for duplicates\n",
    "print(real_data.shape) # Check for number of rows\n",
    "real_data.drop_duplicates(inplace=True) # remove duplicate rows\n",
    "print(real_data.shape) # Check for number of rows without duplicates"
   ]
  }
 ],
 "metadata": {
  "kernelspec": {
   "display_name": "Python 3.7.15 ('venv': venv)",
   "language": "python",
   "name": "python3"
  },
  "language_info": {
   "codemirror_mode": {
    "name": "ipython",
    "version": 3
   },
   "file_extension": ".py",
   "mimetype": "text/x-python",
   "name": "python",
   "nbconvert_exporter": "python",
   "pygments_lexer": "ipython3",
   "version": "3.7.15"
  },
  "orig_nbformat": 4,
  "vscode": {
   "interpreter": {
    "hash": "260a081c309bf195ae6a3ef60e3656c475c4df2342745d13801e9540343ebbcf"
   }
  }
 },
 "nbformat": 4,
 "nbformat_minor": 2
}
