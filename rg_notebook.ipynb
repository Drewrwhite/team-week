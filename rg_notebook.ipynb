{
 "cells": [
  {
   "cell_type": "code",
   "execution_count": 63,
   "metadata": {},
   "outputs": [
    {
     "name": "stdout",
     "output_type": "stream",
     "text": [
      "Index(['status', 'price', 'bed', 'bath', 'acre_lot', 'full_address', 'street',\n",
      "       'city', 'state', 'zip_code', 'house_size', 'sold_date'],\n",
      "      dtype='object')\n",
      "<class 'pandas.core.frame.DataFrame'>\n",
      "RangeIndex: 923159 entries, 0 to 923158\n",
      "Data columns (total 12 columns):\n",
      " #   Column        Non-Null Count   Dtype  \n",
      "---  ------        --------------   -----  \n",
      " 0   status        923159 non-null  object \n",
      " 1   price         923088 non-null  float64\n",
      " 2   bed           791456 non-null  float64\n",
      " 3   bath          807967 non-null  float64\n",
      " 4   acre_lot      649536 non-null  float64\n",
      " 5   full_address  923159 non-null  object \n",
      " 6   street        921021 non-null  object \n",
      " 7   city          923085 non-null  object \n",
      " 8   state         923159 non-null  object \n",
      " 9   zip_code      922954 non-null  float64\n",
      " 10  house_size    625316 non-null  float64\n",
      " 11  sold_date     456396 non-null  object \n",
      "dtypes: float64(6), object(6)\n",
      "memory usage: 84.5+ MB\n"
     ]
    }
   ],
   "source": [
    "import pandas as pd\n",
    "import numpy as np\n",
    "\n",
    "real_data = pd.read_csv('./data/realtor-data.csv', header=0)\n",
    "\n",
    "# Profiling\n",
    "print(real_data.columns.unique()) # Column names\n",
    "real_data.info()"
   ]
  },
  {
   "cell_type": "code",
   "execution_count": 4,
   "metadata": {},
   "outputs": [
    {
     "data": {
      "text/plain": [
       "status\n",
       "for_sale          921528\n",
       "ready_to_build      1631\n",
       "Name: status, dtype: int64"
      ]
     },
     "execution_count": 4,
     "metadata": {},
     "output_type": "execute_result"
    }
   ],
   "source": [
    "# Profiling\n",
    "real_data.groupby(by='status').status.count()"
   ]
  },
  {
   "cell_type": "code",
   "execution_count": 20,
   "metadata": {},
   "outputs": [
    {
     "name": "stdout",
     "output_type": "stream",
     "text": [
      "884122.5224756469\n",
      "0.0\n",
      "875000000.0\n",
      "count    9.230880e+05\n",
      "mean     8.841225e+05\n",
      "std      2.623745e+06\n",
      "min      0.000000e+00\n",
      "25%      2.690000e+05\n",
      "50%      4.750000e+05\n",
      "75%      8.399000e+05\n",
      "max      8.750000e+08\n",
      "Name: price, dtype: float64\n"
     ]
    }
   ],
   "source": [
    "# Profiling price column\n",
    "print(real_data['price'].mean())\n",
    "print(real_data['price'].min())\n",
    "print(real_data['price'].max())\n",
    "print(real_data['price'].describe())"
   ]
  },
  {
   "cell_type": "code",
   "execution_count": 21,
   "metadata": {},
   "outputs": [
    {
     "name": "stdout",
     "output_type": "stream",
     "text": [
      "2141.644071157623\n",
      "100.0\n",
      "1450112.0\n",
      "count    6.253160e+05\n",
      "mean     2.141644e+03\n",
      "std      3.035327e+03\n",
      "min      1.000000e+02\n",
      "25%      1.130000e+03\n",
      "50%      1.651000e+03\n",
      "75%      2.499000e+03\n",
      "max      1.450112e+06\n",
      "Name: house_size, dtype: float64\n"
     ]
    }
   ],
   "source": [
    "# Profiling house_size column\n",
    "print(real_data['house_size'].mean())\n",
    "print(real_data['house_size'].min())\n",
    "print(real_data['house_size'].max())\n",
    "print(real_data['house_size'].describe())"
   ]
  },
  {
   "cell_type": "code",
   "execution_count": 24,
   "metadata": {},
   "outputs": [
    {
     "name": "stdout",
     "output_type": "stream",
     "text": [
      "2141.644071157623\n",
      "100.0\n",
      "1450112.0\n",
      "count    6.253160e+05\n",
      "mean     2.141644e+03\n",
      "std      3.035327e+03\n",
      "min      1.000000e+02\n",
      "25%      1.130000e+03\n",
      "50%      1.651000e+03\n",
      "75%      2.499000e+03\n",
      "max      1.450112e+06\n",
      "Name: house_size, dtype: float64\n"
     ]
    }
   ],
   "source": [
    "# Profiling house_size column\n",
    "print(real_data['house_size'].mean())\n",
    "print(real_data['house_size'].min())\n",
    "print(real_data['house_size'].max())\n",
    "print(real_data['house_size'].describe())"
   ]
  },
  {
   "cell_type": "code",
   "execution_count": 32,
   "metadata": {},
   "outputs": [
    {
     "name": "stdout",
     "output_type": "stream",
     "text": [
      "state\n",
      "Connecticut       4.839807e+05\n",
      "Delaware          3.452066e+05\n",
      "Georgia           4.927036e+05\n",
      "Maine             4.200100e+05\n",
      "Massachusetts     9.757505e+05\n",
      "New Hampshire     4.807679e+05\n",
      "New Jersey        6.046546e+05\n",
      "New York          1.711473e+06\n",
      "Pennsylvania      4.245694e+05\n",
      "Puerto Rico       4.371370e+05\n",
      "Rhode Island      5.002155e+05\n",
      "South Carolina    1.895000e+04\n",
      "Tennessee         3.490000e+04\n",
      "Vermont           4.572101e+05\n",
      "Virgin Islands    7.951458e+05\n",
      "Virginia          3.620645e+05\n",
      "West Virginia     6.250000e+04\n",
      "Wyoming           5.350000e+05\n",
      "Name: price, dtype: float64\n"
     ]
    }
   ],
   "source": [
    "print(real_data.groupby(by='state').price.mean())"
   ]
  },
  {
   "cell_type": "code",
   "execution_count": 64,
   "metadata": {},
   "outputs": [
    {
     "name": "stdout",
     "output_type": "stream",
     "text": [
      "0         False\n",
      "1         False\n",
      "2         False\n",
      "3         False\n",
      "4         False\n",
      "          ...  \n",
      "923154     True\n",
      "923155     True\n",
      "923156     True\n",
      "923157     True\n",
      "923158     True\n",
      "Length: 923159, dtype: bool\n",
      "(923159, 12)\n",
      "(113789, 12)\n"
     ]
    }
   ],
   "source": [
    "print(real_data.duplicated()) # Check for duplicates\n",
    "print(real_data.shape) # Check for number of rows\n",
    "real_data.drop_duplicates(inplace=True) # remove duplicate rows\n",
    "print(real_data.shape) # Check for number of rows without duplicates"
   ]
  },
  {
   "cell_type": "code",
   "execution_count": 60,
   "metadata": {},
   "outputs": [
    {
     "name": "stdout",
     "output_type": "stream",
     "text": [
      "state\n",
      "Connecticut       6.676918e+05\n",
      "Delaware          3.724207e+05\n",
      "Georgia           4.347530e+05\n",
      "Maine             3.340368e+05\n",
      "Massachusetts     9.749812e+05\n",
      "New Hampshire     4.831362e+05\n",
      "New Jersey        6.237974e+05\n",
      "New York          1.760790e+06\n",
      "Pennsylvania      4.493996e+05\n",
      "Puerto Rico       6.745677e+05\n",
      "Rhode Island      5.721080e+05\n",
      "South Carolina    1.895000e+04\n",
      "Tennessee         3.490000e+04\n",
      "Vermont           4.446157e+05\n",
      "Virgin Islands    8.170727e+05\n",
      "Virginia          5.555714e+05\n",
      "West Virginia     6.250000e+04\n",
      "Wyoming           5.350000e+05\n",
      "Name: price, dtype: float64\n",
      "(28634, 12)\n"
     ]
    }
   ],
   "source": [
    "print(real_data.groupby(by='state').price.mean()) #average price by state\n",
    "print(real_data[real_data.state == \"New York\"].shape) # Checking for the number of NY address"
   ]
  },
  {
   "cell_type": "code",
   "execution_count": 69,
   "metadata": {},
   "outputs": [
    {
     "name": "stdout",
     "output_type": "stream",
     "text": [
      "state\n",
      "Connecticut       12042\n",
      "Delaware           1197\n",
      "Georgia               4\n",
      "Maine              2526\n",
      "Massachusetts      8544\n",
      "New Hampshire      2314\n",
      "New Jersey        16232\n",
      "New York          19219\n",
      "Pennsylvania       8337\n",
      "Puerto Rico        2096\n",
      "Rhode Island       3096\n",
      "Vermont            1581\n",
      "Virgin Islands      151\n",
      "West Virginia         1\n",
      "Wyoming               1\n",
      "Name: state, dtype: int64\n",
      "['Connecticut', 'Delaware', 'Georgia', 'Maine', 'Massachusetts', 'New Hampshire', 'New Jersey', 'New York', 'Pennsylvania', 'Puerto Rico', 'Rhode Island', 'Vermont', 'Virgin Islands', 'West Virginia', 'Wyoming']\n",
      "[12042, 1197, 4, 2526, 8544, 2314, 16232, 19219, 8337, 2096, 3096, 1581, 151, 1, 1]\n"
     ]
    },
    {
     "data": {
      "image/png": "[encoded data removed]",
      "text/plain": [
       "<Figure size 640x480 with 1 Axes>"
      ]
     },
     "metadata": {},
     "output_type": "display_data"
    }
   ],
   "source": [
    "print(real_data.groupby(by='state').state.count()) # checking for the number of rows for each state\n",
    "\n",
    "import matplotlib.pyplot as plt\n",
    "\n",
    "labels = list(real_data['state'].sort_values().unique())\n",
    "print(labels)\n",
    "\n",
    "num_address_by_state = list(real_data.groupby(by='state')['state'].count())\n",
    "print(num_address_by_state)\n",
    "\n",
    "# 'subplot' returns two values: a figure and subplots\n",
    "fig1, ax1 = plt.subplots()\n",
    "\n",
    "# we use the 2nd value from 'subplot' to make a pie chart:\n",
    "ax1.pie(num_address_by_state, labels=labels)\n",
    "\n",
    "# this just ensures that pie is drawn as a circle:\n",
    "ax1.axis('equal')  \n",
    "\n",
    "# give the chart a title\n",
    "plt.title(\"Addresses by State\")\n",
    "\n",
    "# style it:\n",
    "plt.style.use('dark_background')\n",
    "\n",
    "# show the chart:\n",
    "plt.show()"
   ]
  },
  {
   "cell_type": "code",
   "execution_count": 68,
   "metadata": {},
   "outputs": [
    {
     "name": "stdout",
     "output_type": "stream",
     "text": [
      "(113789, 4)\n",
      "(77341, 4)\n",
      "            price  house_size  price_per_sq_ft  price_per_sq_meter\n",
      "0        105000.0       920.0       114.130435         1228.490305\n",
      "1         80000.0      1527.0        52.390308          563.924823\n",
      "2         67000.0       748.0        89.572193          964.147471\n",
      "3        145000.0      1800.0        80.555556          867.093157\n",
      "5        179000.0      2520.0        71.031746          764.579680\n",
      "...           ...         ...              ...                 ...\n",
      "923135  1649000.0      2178.0       757.116621         8149.538990\n",
      "923136   779000.0      1816.0       428.964758         4617.340212\n",
      "923144  1595000.0      2231.0       714.926042         7695.403185\n",
      "923146  4595000.0      4863.0       944.889986        10170.715538\n",
      "923147  2995000.0      3446.0       869.123622         9355.172832\n",
      "\n",
      "[77341 rows x 4 columns]\n"
     ]
    }
   ],
   "source": [
    "# Add columns to data set that converts price per square ft and square meters\n",
    "\n",
    "def price_per_sqft_convert(row):\n",
    "    price_per_sqft = row.price / row.house_size\n",
    "    return price_per_sqft\n",
    "\n",
    "def sqft_to_meters_convert(row):\n",
    "    sq_ft = row.house_size\n",
    "    sq_meters = sq_ft * 0.092903\n",
    "    \n",
    "    price_per_sq_meters = row.price / sq_meters\n",
    "    return price_per_sq_meters\n",
    "\n",
    "real_data['price_per_sq_ft'] = real_data.apply(price_per_sqft_convert, axis=1)\n",
    "real_data['price_per_sq_meter'] = real_data.apply(sqft_to_meters_convert, axis=1)\n",
    "\n",
    "print(real_data[['price', 'house_size', 'price_per_sq_ft', 'price_per_sq_meter']].shape)\n",
    "\n",
    "# Remove the NaN by converting string 'NaN' to NaN: \n",
    "def Nan_check(value):\n",
    "    if value == 'NaN':\n",
    "        value = np.nan\n",
    "        return value\n",
    "    else:\n",
    "        return value\n",
    "\n",
    "real_data.house_size = real_data.house_size.map(Nan_check)\n",
    "real_data.price_per_sq_ft = real_data.price_per_sq_ft.map(Nan_check)\n",
    "real_data.price_per_sq_meter = real_data.price_per_sq_meter.map(Nan_check)\n",
    "\n",
    "real_data.dropna(subset=['house_size'], inplace=True) # drop NaN for house size\n",
    "\n",
    "print(real_data[['price', 'house_size', 'price_per_sq_ft', 'price_per_sq_meter']].shape) # check to see number of rows removed from dropna()\n",
    "print(real_data[['price', 'house_size', 'price_per_sq_ft', 'price_per_sq_meter']])"
   ]
  },
  {
   "cell_type": "code",
   "execution_count": 81,
   "metadata": {},
   "outputs": [
    {
     "name": "stdout",
     "output_type": "stream",
     "text": [
      "Index(['price', 'bed', 'bath', 'acre_lot', 'full_address', 'street', 'city',\n",
      "       'state', 'zip_code', 'house_size', 'price_per_sq_ft',\n",
      "       'price_per_sq_meter'],\n",
      "      dtype='object')\n"
     ]
    }
   ],
   "source": [
    "# Drop the 'for_sale' and 'sold_date' columns\n",
    "\n",
    "real_data.drop(['status', 'sold_date'], axis=1, inplace=True)\n",
    "\n",
    "print(real_data.columns.unique())"
   ]
  }
 ],
 "metadata": {
  "kernelspec": {
   "display_name": "Python 3.7.15 ('venv': venv)",
   "language": "python",
   "name": "python3"
  },
  "language_info": {
   "codemirror_mode": {
    "name": "ipython",
    "version": 3
   },
   "file_extension": ".py",
   "mimetype": "text/x-python",
   "name": "python",
   "nbconvert_exporter": "python",
   "pygments_lexer": "ipython3",
   "version": "3.7.15"
  },
  "orig_nbformat": 4,
  "vscode": {
   "interpreter": {
    "hash": "260a081c309bf195ae6a3ef60e3656c475c4df2342745d13801e9540343ebbcf"
   }
  }
 },
 "nbformat": 4,
 "nbformat_minor": 2
}
