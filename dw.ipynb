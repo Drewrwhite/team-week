{
 "cells": [
  {
   "cell_type": "code",
   "execution_count": 5,
   "metadata": {},
   "outputs": [],
   "source": [
    "import pandas as pd\n",
    "import numpy as np\n",
    "import matplotlib.pyplot as plt\n",
    "\n",
    "#import needed libraries"
   ]
  },
  {
   "cell_type": "markdown",
   "metadata": {},
   "source": [
    "## Happiness.csv"
   ]
  },
  {
   "cell_type": "code",
   "execution_count": 6,
   "metadata": {},
   "outputs": [
    {
     "name": "stdout",
     "output_type": "stream",
     "text": [
      "  Country name Regional indicator  Ladder score  \\\n",
      "0      Finland     Western Europe        7.8087   \n",
      "1      Denmark     Western Europe        7.6456   \n",
      "2  Switzerland     Western Europe        7.5599   \n",
      "3      Iceland     Western Europe        7.5045   \n",
      "4       Norway     Western Europe        7.4880   \n",
      "\n",
      "   Standard error of ladder score  upperwhisker  lowerwhisker  \\\n",
      "0                        0.031156      7.869766      7.747634   \n",
      "1                        0.033492      7.711245      7.579955   \n",
      "2                        0.035014      7.628528      7.491272   \n",
      "3                        0.059616      7.621347      7.387653   \n",
      "4                        0.034837      7.556281      7.419719   \n",
      "\n",
      "   Logged GDP per capita  Social support  Healthy life expectancy  \\\n",
      "0              10.639267        0.954330                71.900825   \n",
      "1              10.774001        0.955991                72.402504   \n",
      "2              10.979933        0.942847                74.102448   \n",
      "3              10.772559        0.974670                73.000000   \n",
      "4              11.087804        0.952487                73.200783   \n",
      "\n",
      "   Freedom to make life choices  Generosity  Perceptions of corruption  \\\n",
      "0                      0.949172   -0.059482                   0.195445   \n",
      "1                      0.951444    0.066202                   0.168489   \n",
      "2                      0.921337    0.105911                   0.303728   \n",
      "3                      0.948892    0.246944                   0.711710   \n",
      "4                      0.955750    0.134533                   0.263218   \n",
      "\n",
      "   Ladder score in Dystopia  Explained by: Log GDP per capita  \\\n",
      "0                  1.972317                          1.285190   \n",
      "1                  1.972317                          1.326949   \n",
      "2                  1.972317                          1.390774   \n",
      "3                  1.972317                          1.326502   \n",
      "4                  1.972317                          1.424207   \n",
      "\n",
      "   Explained by: Social support  Explained by: Healthy life expectancy  \\\n",
      "0                      1.499526                               0.961271   \n",
      "1                      1.503449                               0.979333   \n",
      "2                      1.472403                               1.040533   \n",
      "3                      1.547567                               1.000843   \n",
      "4                      1.495173                               1.008072   \n",
      "\n",
      "   Explained by: Freedom to make life choices  Explained by: Generosity  \\\n",
      "0                                    0.662317                  0.159670   \n",
      "1                                    0.665040                  0.242793   \n",
      "2                                    0.628954                  0.269056   \n",
      "3                                    0.661981                  0.362330   \n",
      "4                                    0.670201                  0.287985   \n",
      "\n",
      "   Explained by: Perceptions of corruption  Dystopia + residual  \n",
      "0                                 0.477857             2.762835  \n",
      "1                                 0.495260             2.432741  \n",
      "2                                 0.407946             2.350267  \n",
      "3                                 0.144541             2.460688  \n",
      "4                                 0.434101             2.168266  \n",
      "                 Country name  Regional indicator  Ladder score  \\\n",
      "148  Central African Republic  Sub-Saharan Africa        3.4759   \n",
      "149                    Rwanda  Sub-Saharan Africa        3.3123   \n",
      "150                  Zimbabwe  Sub-Saharan Africa        3.2992   \n",
      "151               South Sudan  Sub-Saharan Africa        2.8166   \n",
      "152               Afghanistan          South Asia        2.5669   \n",
      "\n",
      "     Standard error of ladder score  upperwhisker  lowerwhisker  \\\n",
      "148                        0.115183      3.701658      3.250141   \n",
      "149                        0.052425      3.415053      3.209547   \n",
      "150                        0.058674      3.414202      3.184198   \n",
      "151                        0.107610      3.027516      2.605684   \n",
      "152                        0.031311      2.628270      2.505530   \n",
      "\n",
      "     Logged GDP per capita  Social support  Healthy life expectancy  \\\n",
      "148               6.625160        0.319460                45.200001   \n",
      "149               7.600104        0.540835                61.098846   \n",
      "150               7.865712        0.763093                55.617260   \n",
      "151               7.425360        0.553707                51.000000   \n",
      "152               7.462861        0.470367                52.590000   \n",
      "\n",
      "     Freedom to make life choices  Generosity  Perceptions of corruption  \\\n",
      "148                      0.640881    0.082410                   0.891807   \n",
      "149                      0.900589    0.055484                   0.183541   \n",
      "150                      0.711458   -0.072064                   0.810237   \n",
      "151                      0.451314    0.016519                   0.763417   \n",
      "152                      0.396573   -0.096429                   0.933687   \n",
      "\n",
      "     Ladder score in Dystopia  Explained by: Log GDP per capita  \\\n",
      "148                  1.972317                          0.041072   \n",
      "149                  1.972317                          0.343243   \n",
      "150                  1.972317                          0.425564   \n",
      "151                  1.972317                          0.289083   \n",
      "152                  1.972317                          0.300706   \n",
      "\n",
      "     Explained by: Social support  Explained by: Healthy life expectancy  \\\n",
      "148                      0.000000                               0.000000   \n",
      "149                      0.522876                               0.572383   \n",
      "150                      1.047835                               0.375038   \n",
      "151                      0.553279                               0.208809   \n",
      "152                      0.356434                               0.266052   \n",
      "\n",
      "     Explained by: Freedom to make life choices  Explained by: Generosity  \\\n",
      "148                                    0.292814                  0.253513   \n",
      "149                                    0.604088                  0.235705   \n",
      "150                                    0.377405                  0.151349   \n",
      "151                                    0.065609                  0.209935   \n",
      "152                                    0.000000                  0.135235   \n",
      "\n",
      "     Explained by: Perceptions of corruption  Dystopia + residual  \n",
      "148                                 0.028265             2.860198  \n",
      "149                                 0.485542             0.548445  \n",
      "150                                 0.080929             0.841031  \n",
      "151                                 0.111157             1.378751  \n",
      "152                                 0.001226             1.507236  \n",
      "(153, 20)\n"
     ]
    }
   ],
   "source": [
    "happiness_file = \"./data/Happiness.csv\"\n",
    "happiness_df = pd.read_csv(happiness_file, header=0)\n",
    "#load and profile data\n",
    "print(happiness_df.head())\n",
    "print(happiness_df.tail())\n",
    "print(happiness_df.shape)"
   ]
  },
  {
   "cell_type": "code",
   "execution_count": 7,
   "metadata": {},
   "outputs": [
    {
     "name": "stdout",
     "output_type": "stream",
     "text": [
      "0\n"
     ]
    }
   ],
   "source": [
    "print(happiness_df.duplicated().sum())\n",
    "# check for duplicates"
   ]
  },
  {
   "cell_type": "code",
   "execution_count": 8,
   "metadata": {},
   "outputs": [
    {
     "name": "stdout",
     "output_type": "stream",
     "text": [
      "Index(['Country name', 'Regional indicator', 'Ladder score',\n",
      "       'Standard error of ladder score', 'upperwhisker', 'lowerwhisker',\n",
      "       'Logged GDP per capita', 'Social support', 'Healthy life expectancy',\n",
      "       'Freedom to make life choices', 'Generosity',\n",
      "       'Perceptions of corruption', 'Ladder score in Dystopia',\n",
      "       'Explained by: Log GDP per capita', 'Explained by: Social support',\n",
      "       'Explained by: Healthy life expectancy',\n",
      "       'Explained by: Freedom to make life choices',\n",
      "       'Explained by: Generosity', 'Explained by: Perceptions of corruption',\n",
      "       'Dystopia + residual'],\n",
      "      dtype='object')\n"
     ]
    }
   ],
   "source": [
    "print(happiness_df.columns)\n",
    "# verify column names"
   ]
  },
  {
   "cell_type": "markdown",
   "metadata": {},
   "source": [
    "## world-happiness-report.csv"
   ]
  },
  {
   "cell_type": "code",
   "execution_count": 9,
   "metadata": {},
   "outputs": [
    {
     "name": "stdout",
     "output_type": "stream",
     "text": [
      "  Country name  year  Life Ladder  Log GDP per capita  Social support  \\\n",
      "0  Afghanistan  2008        3.724               7.370           0.451   \n",
      "1  Afghanistan  2009        4.402               7.540           0.552   \n",
      "2  Afghanistan  2010        4.758               7.647           0.539   \n",
      "3  Afghanistan  2011        3.832               7.620           0.521   \n",
      "4  Afghanistan  2012        3.783               7.705           0.521   \n",
      "\n",
      "   Healthy life expectancy at birth  Freedom to make life choices  Generosity  \\\n",
      "0                             50.80                         0.718       0.168   \n",
      "1                             51.20                         0.679       0.190   \n",
      "2                             51.60                         0.600       0.121   \n",
      "3                             51.92                         0.496       0.162   \n",
      "4                             52.24                         0.531       0.236   \n",
      "\n",
      "   Perceptions of corruption  Positive affect  Negative affect  \n",
      "0                      0.882            0.518            0.258  \n",
      "1                      0.850            0.584            0.237  \n",
      "2                      0.707            0.618            0.275  \n",
      "3                      0.731            0.611            0.267  \n",
      "4                      0.776            0.710            0.268  \n",
      "     Country name  year  Life Ladder  Log GDP per capita  Social support  \\\n",
      "1944     Zimbabwe  2016        3.735               7.984           0.768   \n",
      "1945     Zimbabwe  2017        3.638               8.016           0.754   \n",
      "1946     Zimbabwe  2018        3.616               8.049           0.775   \n",
      "1947     Zimbabwe  2019        2.694               7.950           0.759   \n",
      "1948     Zimbabwe  2020        3.160               7.829           0.717   \n",
      "\n",
      "      Healthy life expectancy at birth  Freedom to make life choices  \\\n",
      "1944                              54.4                         0.733   \n",
      "1945                              55.0                         0.753   \n",
      "1946                              55.6                         0.763   \n",
      "1947                              56.2                         0.632   \n",
      "1948                              56.8                         0.643   \n",
      "\n",
      "      Generosity  Perceptions of corruption  Positive affect  Negative affect  \n",
      "1944      -0.095                      0.724            0.738            0.209  \n",
      "1945      -0.098                      0.751            0.806            0.224  \n",
      "1946      -0.068                      0.844            0.710            0.212  \n",
      "1947      -0.064                      0.831            0.716            0.235  \n",
      "1948      -0.009                      0.789            0.703            0.346  \n",
      "(1949, 11)\n"
     ]
    }
   ],
   "source": [
    "world_happiness_file = \"./data/world-happiness-report.csv\"\n",
    "world_happiness_df = pd.read_csv(world_happiness_file, header=0)\n",
    "#load and profile data\n",
    "print(world_happiness_df.head())\n",
    "print(world_happiness_df.tail())\n",
    "print(world_happiness_df.shape)"
   ]
  },
  {
   "cell_type": "code",
   "execution_count": 10,
   "metadata": {},
   "outputs": [
    {
     "name": "stdout",
     "output_type": "stream",
     "text": [
      "0\n",
      "True\n",
      "373\n"
     ]
    }
   ],
   "source": [
    "print(world_happiness_df.duplicated().sum())\n",
    "# check for duplicate and null values\n",
    "print(world_happiness_df.isnull().values.any())\n",
    "print(world_happiness_df.isnull().values.sum())"
   ]
  },
  {
   "cell_type": "code",
   "execution_count": 11,
   "metadata": {},
   "outputs": [
    {
     "name": "stdout",
     "output_type": "stream",
     "text": [
      "Index(['Country name', 'year', 'Life Ladder', 'Log GDP per capita',\n",
      "       'Social support', 'Healthy life expectancy at birth',\n",
      "       'Freedom to make life choices', 'Generosity',\n",
      "       'Perceptions of corruption', 'Positive affect', 'Negative affect'],\n",
      "      dtype='object')\n"
     ]
    }
   ],
   "source": [
    "print(world_happiness_df.columns)\n",
    "# verify columns"
   ]
  },
  {
   "cell_type": "markdown",
   "metadata": {},
   "source": [
    "## world-happiness-report-2021.csv"
   ]
  },
  {
   "cell_type": "code",
   "execution_count": 12,
   "metadata": {},
   "outputs": [
    {
     "name": "stdout",
     "output_type": "stream",
     "text": [
      "  Country name Regional indicator  Ladder score  \\\n",
      "0      Finland     Western Europe         7.842   \n",
      "1      Denmark     Western Europe         7.620   \n",
      "2  Switzerland     Western Europe         7.571   \n",
      "3      Iceland     Western Europe         7.554   \n",
      "4  Netherlands     Western Europe         7.464   \n",
      "\n",
      "   Standard error of ladder score  upperwhisker  lowerwhisker  \\\n",
      "0                           0.032         7.904         7.780   \n",
      "1                           0.035         7.687         7.552   \n",
      "2                           0.036         7.643         7.500   \n",
      "3                           0.059         7.670         7.438   \n",
      "4                           0.027         7.518         7.410   \n",
      "\n",
      "   Logged GDP per capita  Social support  Healthy life expectancy  \\\n",
      "0                 10.775           0.954                     72.0   \n",
      "1                 10.933           0.954                     72.7   \n",
      "2                 11.117           0.942                     74.4   \n",
      "3                 10.878           0.983                     73.0   \n",
      "4                 10.932           0.942                     72.4   \n",
      "\n",
      "   Freedom to make life choices  Generosity  Perceptions of corruption  \\\n",
      "0                         0.949      -0.098                      0.186   \n",
      "1                         0.946       0.030                      0.179   \n",
      "2                         0.919       0.025                      0.292   \n",
      "3                         0.955       0.160                      0.673   \n",
      "4                         0.913       0.175                      0.338   \n",
      "\n",
      "   Ladder score in Dystopia  Explained by: Log GDP per capita  \\\n",
      "0                      2.43                             1.446   \n",
      "1                      2.43                             1.502   \n",
      "2                      2.43                             1.566   \n",
      "3                      2.43                             1.482   \n",
      "4                      2.43                             1.501   \n",
      "\n",
      "   Explained by: Social support  Explained by: Healthy life expectancy  \\\n",
      "0                         1.106                                  0.741   \n",
      "1                         1.108                                  0.763   \n",
      "2                         1.079                                  0.816   \n",
      "3                         1.172                                  0.772   \n",
      "4                         1.079                                  0.753   \n",
      "\n",
      "   Explained by: Freedom to make life choices  Explained by: Generosity  \\\n",
      "0                                       0.691                     0.124   \n",
      "1                                       0.686                     0.208   \n",
      "2                                       0.653                     0.204   \n",
      "3                                       0.698                     0.293   \n",
      "4                                       0.647                     0.302   \n",
      "\n",
      "   Explained by: Perceptions of corruption  Dystopia + residual  \n",
      "0                                    0.481                3.253  \n",
      "1                                    0.485                2.868  \n",
      "2                                    0.413                2.839  \n",
      "3                                    0.170                2.967  \n",
      "4                                    0.384                2.798  \n",
      "    Country name  Regional indicator  Ladder score  \\\n",
      "144      Lesotho  Sub-Saharan Africa         3.512   \n",
      "145     Botswana  Sub-Saharan Africa         3.467   \n",
      "146       Rwanda  Sub-Saharan Africa         3.415   \n",
      "147     Zimbabwe  Sub-Saharan Africa         3.145   \n",
      "148  Afghanistan          South Asia         2.523   \n",
      "\n",
      "     Standard error of ladder score  upperwhisker  lowerwhisker  \\\n",
      "144                           0.120         3.748         3.276   \n",
      "145                           0.074         3.611         3.322   \n",
      "146                           0.068         3.548         3.282   \n",
      "147                           0.058         3.259         3.030   \n",
      "148                           0.038         2.596         2.449   \n",
      "\n",
      "     Logged GDP per capita  Social support  Healthy life expectancy  \\\n",
      "144                  7.926           0.787                   48.700   \n",
      "145                  9.782           0.784                   59.269   \n",
      "146                  7.676           0.552                   61.400   \n",
      "147                  7.943           0.750                   56.201   \n",
      "148                  7.695           0.463                   52.493   \n",
      "\n",
      "     Freedom to make life choices  Generosity  Perceptions of corruption  \\\n",
      "144                         0.715      -0.131                      0.915   \n",
      "145                         0.824      -0.246                      0.801   \n",
      "146                         0.897       0.061                      0.167   \n",
      "147                         0.677      -0.047                      0.821   \n",
      "148                         0.382      -0.102                      0.924   \n",
      "\n",
      "     Ladder score in Dystopia  Explained by: Log GDP per capita  \\\n",
      "144                      2.43                             0.451   \n",
      "145                      2.43                             1.099   \n",
      "146                      2.43                             0.364   \n",
      "147                      2.43                             0.457   \n",
      "148                      2.43                             0.370   \n",
      "\n",
      "     Explained by: Social support  Explained by: Healthy life expectancy  \\\n",
      "144                         0.731                                  0.007   \n",
      "145                         0.724                                  0.340   \n",
      "146                         0.202                                  0.407   \n",
      "147                         0.649                                  0.243   \n",
      "148                         0.000                                  0.126   \n",
      "\n",
      "     Explained by: Freedom to make life choices  Explained by: Generosity  \\\n",
      "144                                       0.405                     0.103   \n",
      "145                                       0.539                     0.027   \n",
      "146                                       0.627                     0.227   \n",
      "147                                       0.359                     0.157   \n",
      "148                                       0.000                     0.122   \n",
      "\n",
      "     Explained by: Perceptions of corruption  Dystopia + residual  \n",
      "144                                    0.015                1.800  \n",
      "145                                    0.088                0.648  \n",
      "146                                    0.493                1.095  \n",
      "147                                    0.075                1.205  \n",
      "148                                    0.010                1.895  \n",
      "(149, 20)\n"
     ]
    }
   ],
   "source": [
    "world_happiness2021_file = \"./data/world-happiness-report-2021.csv\"\n",
    "world_happiness2021_df = pd.read_csv(world_happiness2021_file, header=0)\n",
    "# load and profile data\n",
    "print(world_happiness2021_df.head())\n",
    "print(world_happiness2021_df.tail())\n",
    "print(world_happiness2021_df.shape)"
   ]
  },
  {
   "cell_type": "code",
   "execution_count": 13,
   "metadata": {},
   "outputs": [
    {
     "name": "stdout",
     "output_type": "stream",
     "text": [
      "0\n",
      "False\n",
      "0\n"
     ]
    }
   ],
   "source": [
    "print(world_happiness2021_df.duplicated().sum())\n",
    "# check for duplicates and null values\n",
    "print(world_happiness2021_df.isnull().values.any())\n",
    "print(world_happiness2021_df.isnull().values.sum())"
   ]
  },
  {
   "cell_type": "code",
   "execution_count": 14,
   "metadata": {},
   "outputs": [
    {
     "name": "stdout",
     "output_type": "stream",
     "text": [
      "Index(['Country name', 'Regional indicator', 'Ladder score',\n",
      "       'Standard error of ladder score', 'upperwhisker', 'lowerwhisker',\n",
      "       'Logged GDP per capita', 'Social support', 'Healthy life expectancy',\n",
      "       'Freedom to make life choices', 'Generosity',\n",
      "       'Perceptions of corruption', 'Ladder score in Dystopia',\n",
      "       'Explained by: Log GDP per capita', 'Explained by: Social support',\n",
      "       'Explained by: Healthy life expectancy',\n",
      "       'Explained by: Freedom to make life choices',\n",
      "       'Explained by: Generosity', 'Explained by: Perceptions of corruption',\n",
      "       'Dystopia + residual'],\n",
      "      dtype='object')\n"
     ]
    }
   ],
   "source": [
    "print(world_happiness2021_df.columns)\n",
    "# verify columns"
   ]
  },
  {
   "cell_type": "markdown",
   "metadata": {},
   "source": [
    "## countries_quality_of_life_index.18-10-2021.csv"
   ]
  },
  {
   "cell_type": "code",
   "execution_count": 15,
   "metadata": {},
   "outputs": [
    {
     "name": "stdout",
     "output_type": "stream",
     "text": [
      "      Name         \"NativeName\"   \"QualityOfLifeIndex\"\n",
      "0   Canada             \"Canada\"             159.511902\n",
      "1    Japan                 \"日本\"             165.326905\n",
      "2   Norway   \"Kongeriket Norge\"             173.158166\n",
      "3  Ireland               \"Eire\"             153.182191\n",
      "4  Hungary       \"Magyarorszag\"             135.343937\n",
      "                           Name                    \"NativeName\"  \\\n",
      "110               Cote d'Ivoire   \"Republique de Cote d'Ivoire\"   \n",
      "111                     Morocco                        \"المغرب\"   \n",
      "112                     Nigeria                      \"Nijeriya\"   \n",
      "113  Kingdom of the Netherlands    \"Koninkrijk der Nederlanden\"   \n",
      "114                Danish Realm            \"Kongeriget Danmark\"   \n",
      "\n",
      "      \"QualityOfLifeIndex\"  \n",
      "110              24.341801  \n",
      "111             106.065829  \n",
      "112              53.089911  \n",
      "113             182.535902  \n",
      "114             188.635667  \n",
      "(115, 3)\n"
     ]
    }
   ],
   "source": [
    "quality_index_file = \"./data/countries_quality_of_life_index.18-10-2021.csv\"\n",
    "quality_index_df = pd.read_csv(quality_index_file, header=0)\n",
    "# load and profile data\n",
    "print(quality_index_df.head())\n",
    "print(quality_index_df.tail())\n",
    "print(quality_index_df.shape)"
   ]
  },
  {
   "cell_type": "code",
   "execution_count": 16,
   "metadata": {},
   "outputs": [
    {
     "name": "stdout",
     "output_type": "stream",
     "text": [
      "0\n",
      "False\n",
      "0\n"
     ]
    }
   ],
   "source": [
    "print(quality_index_df.duplicated().sum())\n",
    "# check for duplicates and null values\n",
    "print(quality_index_df.isnull().values.any())\n",
    "print(quality_index_df.isnull().values.sum())"
   ]
  },
  {
   "cell_type": "code",
   "execution_count": 17,
   "metadata": {},
   "outputs": [
    {
     "name": "stdout",
     "output_type": "stream",
     "text": [
      "Index(['Name', ' \"NativeName\"', ' \"QualityOfLifeIndex\"'], dtype='object')\n"
     ]
    }
   ],
   "source": [
    "print(quality_index_df.columns)\n",
    "# verify columns"
   ]
  },
  {
   "cell_type": "markdown",
   "metadata": {},
   "source": [
    "## Quality of life in a country comparison.csv"
   ]
  },
  {
   "cell_type": "code",
   "execution_count": 18,
   "metadata": {},
   "outputs": [
    {
     "name": "stdout",
     "output_type": "stream",
     "text": [
      "   Unnamed: 0  Rank      Country  Stability(15%)  Rights(20%)  Health(15%)  \\\n",
      "0           0     1    Australia              86           92           87   \n",
      "1           1     2   San Marino              81           82           91   \n",
      "2           2     3    Hong Kong              77           85          100   \n",
      "3           3     4  Switzerland              91           99           93   \n",
      "4           4     5        Macao              90           71          100   \n",
      "\n",
      "   Safety(10%)  Climate(15%)  Costs(15%)  Popularity(10%)  \\\n",
      "0          100            90          23               41   \n",
      "1           87            62          61               47   \n",
      "2           97            49          61               41   \n",
      "3           99            34          44               46   \n",
      "4           93            48          61               44   \n",
      "\n",
      "   TotalQuality of life(100%)  \n",
      "0                          76  \n",
      "1                          74  \n",
      "2                          74  \n",
      "3                          74  \n",
      "4                          73  \n",
      "     Unnamed: 0  Rank                Country  Stability(15%)  Rights(20%)  \\\n",
      "132         132   133               Cameroon              40           19   \n",
      "133         133   134                Nigeria              18           24   \n",
      "134         134   135                   Chad              46           12   \n",
      "135         135   136                  Sudan               8           11   \n",
      "136         136   137  Congo (Dem. Republic)              32            7   \n",
      "\n",
      "     Health(15%)  Safety(10%)  Climate(15%)  Costs(15%)  Popularity(10%)  \\\n",
      "132            9           27            60          51               34   \n",
      "133           12           23            53          57               41   \n",
      "134            0           31            50          49               44   \n",
      "135           18           55            40          66               24   \n",
      "136            6           10            54          60               36   \n",
      "\n",
      "     TotalQuality of life(100%)  \n",
      "132                          34  \n",
      "133                          32  \n",
      "134                          32  \n",
      "135                          30  \n",
      "136                          29  \n",
      "(137, 11)\n"
     ]
    }
   ],
   "source": [
    "quality_country_file = \"./data/Quality of life in a country comparison.csv\"\n",
    "quality_country_df = pd.read_csv(quality_country_file, header=0)\n",
    "# load and profile data\n",
    "print(quality_country_df.head())\n",
    "print(quality_country_df.tail())\n",
    "print(quality_country_df.shape)"
   ]
  },
  {
   "cell_type": "code",
   "execution_count": 19,
   "metadata": {},
   "outputs": [
    {
     "name": "stdout",
     "output_type": "stream",
     "text": [
      "0\n",
      "False\n",
      "0\n"
     ]
    }
   ],
   "source": [
    "print(quality_country_df.duplicated().sum())\n",
    "# check for duplicates and null values\n",
    "print(quality_country_df.isnull().values.any())\n",
    "print(quality_country_df.isnull().values.sum())"
   ]
  },
  {
   "cell_type": "code",
   "execution_count": 20,
   "metadata": {},
   "outputs": [
    {
     "name": "stdout",
     "output_type": "stream",
     "text": [
      "Index(['Unnamed: 0', 'Rank', 'Country', 'Stability(15%)', 'Rights(20%)',\n",
      "       'Health(15%)', 'Safety(10%)', 'Climate(15%)', 'Costs(15%)',\n",
      "       'Popularity(10%)', 'TotalQuality of life(100%)'],\n",
      "      dtype='object')\n"
     ]
    }
   ],
   "source": [
    "print(quality_country_df.columns)\n",
    "# verify columns"
   ]
  },
  {
   "cell_type": "code",
   "execution_count": 21,
   "metadata": {},
   "outputs": [
    {
     "name": "stdout",
     "output_type": "stream",
     "text": [
      "                 Country name Regional indicator_x  Ladder score_x  \\\n",
      "148  Central African Republic   Sub-Saharan Africa          3.4759   \n",
      "149                    Rwanda   Sub-Saharan Africa          3.3123   \n",
      "150                  Zimbabwe   Sub-Saharan Africa          3.2992   \n",
      "151               South Sudan   Sub-Saharan Africa          2.8166   \n",
      "152               Afghanistan           South Asia          2.5669   \n",
      "\n",
      "     Standard error of ladder score_x  upperwhisker_x  lowerwhisker_x  \\\n",
      "148                          0.115183        3.701658        3.250141   \n",
      "149                          0.052425        3.415053        3.209547   \n",
      "150                          0.058674        3.414202        3.184198   \n",
      "151                          0.107610        3.027516        2.605684   \n",
      "152                          0.031311        2.628270        2.505530   \n",
      "\n",
      "     Logged GDP per capita_x  Social support_x  Healthy life expectancy_x  \\\n",
      "148                 6.625160          0.319460                  45.200001   \n",
      "149                 7.600104          0.540835                  61.098846   \n",
      "150                 7.865712          0.763093                  55.617260   \n",
      "151                 7.425360          0.553707                  51.000000   \n",
      "152                 7.462861          0.470367                  52.590000   \n",
      "\n",
      "     Freedom to make life choices_x  ...  Generosity_y  \\\n",
      "148                        0.640881  ...           NaN   \n",
      "149                        0.900589  ...         0.061   \n",
      "150                        0.711458  ...        -0.047   \n",
      "151                        0.451314  ...           NaN   \n",
      "152                        0.396573  ...        -0.102   \n",
      "\n",
      "     Perceptions of corruption_y  Ladder score in Dystopia_y  \\\n",
      "148                          NaN                         NaN   \n",
      "149                        0.167                        2.43   \n",
      "150                        0.821                        2.43   \n",
      "151                          NaN                         NaN   \n",
      "152                        0.924                        2.43   \n",
      "\n",
      "     Explained by: Log GDP per capita_y  Explained by: Social support_y  \\\n",
      "148                                 NaN                             NaN   \n",
      "149                               0.364                           0.202   \n",
      "150                               0.457                           0.649   \n",
      "151                                 NaN                             NaN   \n",
      "152                               0.370                           0.000   \n",
      "\n",
      "     Explained by: Healthy life expectancy_y  \\\n",
      "148                                      NaN   \n",
      "149                                    0.407   \n",
      "150                                    0.243   \n",
      "151                                      NaN   \n",
      "152                                    0.126   \n",
      "\n",
      "     Explained by: Freedom to make life choices_y  Explained by: Generosity_y  \\\n",
      "148                                           NaN                         NaN   \n",
      "149                                         0.627                       0.227   \n",
      "150                                         0.359                       0.157   \n",
      "151                                           NaN                         NaN   \n",
      "152                                         0.000                       0.122   \n",
      "\n",
      "     Explained by: Perceptions of corruption_y  Dystopia + residual_y  \n",
      "148                                        NaN                    NaN  \n",
      "149                                      0.493                  1.095  \n",
      "150                                      0.075                  1.205  \n",
      "151                                        NaN                    NaN  \n",
      "152                                      0.010                  1.895  \n",
      "\n",
      "[5 rows x 39 columns]\n",
      "(153, 39)\n"
     ]
    }
   ],
   "source": [
    "happiness_world2021 = pd.merge(happiness_df, world_happiness2021_df, on='Country name', how='left')\n",
    "# merge data frames left outer merge to help compare differences to make priority values\n",
    "# print(happiness_world2021.head())\n",
    "print(happiness_world2021.tail())\n",
    "print(happiness_world2021.shape)\n",
    "# print(happiness_world2021.columns)\n",
    "# profile merged data frame"
   ]
  },
  {
   "cell_type": "code",
   "execution_count": 22,
   "metadata": {},
   "outputs": [
    {
     "name": "stdout",
     "output_type": "stream",
     "text": [
      "Index(['Country name', 'Regional indicator_x', 'Ladder score_x',\n",
      "       'Standard error of ladder score_x', 'upperwhisker_x', 'lowerwhisker_x',\n",
      "       'Logged GDP per capita_x', 'Social support_x',\n",
      "       'Healthy life expectancy_x', 'Freedom to make life choices_x',\n",
      "       'Generosity_x', 'Perceptions of corruption_x',\n",
      "       'Ladder score in Dystopia_x', 'Explained by: Log GDP per capita_x',\n",
      "       'Explained by: Social support_x',\n",
      "       'Explained by: Healthy life expectancy_x',\n",
      "       'Explained by: Freedom to make life choices_x',\n",
      "       'Explained by: Generosity_x',\n",
      "       'Explained by: Perceptions of corruption_x', 'Dystopia + residual_x',\n",
      "       'Regional indicator_y', 'Ladder score_y',\n",
      "       'Standard error of ladder score_y', 'upperwhisker_y', 'lowerwhisker_y',\n",
      "       'Logged GDP per capita_y', 'Social support_y',\n",
      "       'Healthy life expectancy_y', 'Freedom to make life choices_y',\n",
      "       'Generosity_y', 'Perceptions of corruption_y',\n",
      "       'Ladder score in Dystopia_y', 'Explained by: Log GDP per capita_y',\n",
      "       'Explained by: Social support_y',\n",
      "       'Explained by: Healthy life expectancy_y',\n",
      "       'Explained by: Freedom to make life choices_y',\n",
      "       'Explained by: Generosity_y',\n",
      "       'Explained by: Perceptions of corruption_y', 'Dystopia + residual_y'],\n",
      "      dtype='object')\n"
     ]
    }
   ],
   "source": [
    "print(happiness_world2021.columns)\n",
    "# verify columns after merge"
   ]
  },
  {
   "cell_type": "code",
   "execution_count": 26,
   "metadata": {},
   "outputs": [
    {
     "name": "stdout",
     "output_type": "stream",
     "text": [
      "(153, 8)\n",
      "Index(['Country name', 'Ladder score_x', 'Logged GDP per capita_x',\n",
      "       'Social support_x', 'Healthy life expectancy_x',\n",
      "       'Freedom to make life choices_x', 'Generosity_x',\n",
      "       'Perceptions of corruption_x'],\n",
      "      dtype='object')\n"
     ]
    }
   ],
   "source": [
    "\n",
    "happiness_world2021.drop([col for col in happiness_world2021.columns if '_y' in col],axis=1,inplace=True)\n",
    "# drop \"_y\" columns because \"_x\" more up to date\n",
    "drop_cols = ['Regional indicator_x', 'Standard error of ladder score_x', 'upperwhisker_x', 'lowerwhisker_x', 'Ladder score in Dystopia_x', 'Explained by: Log GDP per capita_x', 'Explained by: Social support_x', 'Explained by: Healthy life expectancy_x', 'Explained by: Freedom to make life choices_x', 'Explained by: Generosity_x', 'Explained by: Perceptions of corruption_x', 'Dystopia + residual_x' ]\n",
    "happiness_world2021.drop(drop_cols, inplace=True, axis=1)\n",
    "# drop columns that are not applicable\n",
    "print(happiness_world2021.shape)\n",
    "print(happiness_world2021.columns)\n",
    "# profile data for verification"
   ]
  },
  {
   "cell_type": "code",
   "execution_count": 29,
   "metadata": {},
   "outputs": [
    {
     "name": "stdout",
     "output_type": "stream",
     "text": [
      "False\n",
      "0\n",
      "  Country name  Ladder score  Logged GDP per capita  Social support  \\\n",
      "0      Finland        7.8087              10.639267        0.954330   \n",
      "1      Denmark        7.6456              10.774001        0.955991   \n",
      "2  Switzerland        7.5599              10.979933        0.942847   \n",
      "3      Iceland        7.5045              10.772559        0.974670   \n",
      "4       Norway        7.4880              11.087804        0.952487   \n",
      "\n",
      "   Healthy life expectancy  Freedom to make life choices  Generosity  \\\n",
      "0                71.900825                      0.949172   -0.059482   \n",
      "1                72.402504                      0.951444    0.066202   \n",
      "2                74.102448                      0.921337    0.105911   \n",
      "3                73.000000                      0.948892    0.246944   \n",
      "4                73.200783                      0.955750    0.134533   \n",
      "\n",
      "   Perceptions of corruption  \n",
      "0                   0.195445  \n",
      "1                   0.168489  \n",
      "2                   0.303728  \n",
      "3                   0.711710  \n",
      "4                   0.263218  \n"
     ]
    }
   ],
   "source": [
    "happiness_world2021.columns = happiness_world2021.columns.str.rstrip('_x')\n",
    "# clean up column names\n",
    "print(happiness_world2021.isnull().values.any())\n",
    "print(happiness_world2021.isnull().values.sum())\n",
    "# check for null values\n",
    "print(happiness_world2021.head())\n"
   ]
  },
  {
   "cell_type": "code",
   "execution_count": 33,
   "metadata": {},
   "outputs": [
    {
     "name": "stdout",
     "output_type": "stream",
     "text": [
      "Country name                    0\n",
      "Ladder score                    0\n",
      "Logged GDP per capita           0\n",
      "Social support                  0\n",
      "Healthy life expectancy         0\n",
      "Freedom to make life choices    0\n",
      "Generosity                      0\n",
      "Perceptions of corruption       0\n",
      "dtype: int64\n"
     ]
    }
   ],
   "source": [
    "print(happiness_world2021.isnull().sum())"
   ]
  },
  {
   "cell_type": "code",
   "execution_count": 40,
   "metadata": {},
   "outputs": [
    {
     "name": "stdout",
     "output_type": "stream",
     "text": [
      "  Country name  Ladder score  Logged GDP per capita  Social support  \\\n",
      "0      Finland          7.81                  10.64            0.95   \n",
      "1      Denmark          7.65                  10.77            0.96   \n",
      "2  Switzerland          7.56                  10.98            0.94   \n",
      "3      Iceland          7.50                  10.77            0.97   \n",
      "4       Norway          7.49                  11.09            0.95   \n",
      "\n",
      "   Healthy life expectancy  Freedom to make life choices  Generosity  \\\n",
      "0                     71.9                          0.95       -0.06   \n",
      "1                     72.4                          0.95        0.07   \n",
      "2                     74.1                          0.92        0.11   \n",
      "3                     73.0                          0.95        0.25   \n",
      "4                     73.2                          0.96        0.13   \n",
      "\n",
      "   Perceptions of corruption  \n",
      "0                       0.20  \n",
      "1                       0.17  \n",
      "2                       0.30  \n",
      "3                       0.71  \n",
      "4                       0.26  \n"
     ]
    }
   ],
   "source": [
    "pd.set_option('precision', 2)\n",
    "# round all values to 2 decimal points\n",
    "print(happiness_world2021.head())"
   ]
  },
  {
   "cell_type": "code",
   "execution_count": 49,
   "metadata": {},
   "outputs": [
    {
     "data": {
      "image/png": "[encoded data removed]",
      "text/plain": [
       "<Figure size 640x480 with 1 Axes>"
      ]
     },
     "metadata": {},
     "output_type": "display_data"
    }
   ],
   "source": [
    "#visualization ladder score line chart\n",
    "plt.style.use('dark_background')\n",
    "\n",
    "# 1st arg is column for x-axis, 2nd arg is column for y-axis\n",
    "plt.plot(happiness_world2021['Country name'][:10], happiness_world2021['Ladder score'][:10])\n",
    "\n",
    "# give the chart a title\n",
    "plt.title(\"World Happiness (top 10)\")\n",
    "\n",
    "# label the x and y axes\n",
    "plt.xlabel('Country')\n",
    "plt.ylabel('Happiness')\n",
    "plt.xticks(rotation= 45)\n",
    "\n",
    "\n",
    "\n",
    "# show the chart\n",
    "plt.show()\n"
   ]
  },
  {
   "cell_type": "code",
   "execution_count": 76,
   "metadata": {},
   "outputs": [
    {
     "data": {
      "image/png": "[encoded data removed]",
      "text/plain": [
       "<Figure size 640x480 with 1 Axes>"
      ]
     },
     "metadata": {},
     "output_type": "display_data"
    }
   ],
   "source": [
    "# visualization pie chart life expectancy\n",
    "\n",
    "y = happiness_world2021['Healthy life expectancy'][:10]\n",
    "country_labels = happiness_world2021['Country name'][:10]\n",
    "\n",
    "def absolute_value(val):\n",
    "    \"\"\"take value and present it as absolute to show age instead of percentage\n",
    "\n",
    "Args:\n",
    "        value\n",
    "\n",
    "Returns:\n",
    "        absolute number\n",
    "    \"\"\"\n",
    "    a  = np.round(val/100.*y.sum(), 0)\n",
    "    return a\n",
    "\n",
    "plt.title('Life Expectancy')\n",
    "plt.pie(y, autopct = absolute_value)\n",
    "plt.legend(country_labels, bbox_to_anchor=(1,1), loc= 'best')\n",
    "plt.show() "
   ]
  }
 ],
 "metadata": {
  "kernelspec": {
   "display_name": "Python 3.7.15 ('venv': venv)",
   "language": "python",
   "name": "python3"
  },
  "language_info": {
   "codemirror_mode": {
    "name": "ipython",
    "version": 3
   },
   "file_extension": ".py",
   "mimetype": "text/x-python",
   "name": "python",
   "nbconvert_exporter": "python",
   "pygments_lexer": "ipython3",
   "version": "3.7.15"
  },
  "orig_nbformat": 4,
  "vscode": {
   "interpreter": {
    "hash": "845cf280cfe575b4e32beec92cafcfb3101b0d777fba5073a6d34cec3ca45c98"
   }
  }
 },
 "nbformat": 4,
 "nbformat_minor": 2
}
