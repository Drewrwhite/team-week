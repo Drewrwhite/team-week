{
 "cells": [
  {
   "cell_type": "code",
   "execution_count": 1,
   "metadata": {},
   "outputs": [],
   "source": [
    "import pandas as pd\n",
    "import numpy as np\n",
    "import matplotlib.pyplot as plt"
   ]
  },
  {
   "cell_type": "code",
   "execution_count": 9,
   "metadata": {},
   "outputs": [
    {
     "name": "stdout",
     "output_type": "stream",
     "text": [
      "  Country name Regional indicator  Ladder score  \\\n",
      "0      Finland     Western Europe        7.8087   \n",
      "1      Denmark     Western Europe        7.6456   \n",
      "2  Switzerland     Western Europe        7.5599   \n",
      "3      Iceland     Western Europe        7.5045   \n",
      "4       Norway     Western Europe        7.4880   \n",
      "\n",
      "   Standard error of ladder score  upperwhisker  lowerwhisker  \\\n",
      "0                        0.031156      7.869766      7.747634   \n",
      "1                        0.033492      7.711245      7.579955   \n",
      "2                        0.035014      7.628528      7.491272   \n",
      "3                        0.059616      7.621347      7.387653   \n",
      "4                        0.034837      7.556281      7.419719   \n",
      "\n",
      "   Logged GDP per capita  Social support  Healthy life expectancy  \\\n",
      "0              10.639267        0.954330                71.900825   \n",
      "1              10.774001        0.955991                72.402504   \n",
      "2              10.979933        0.942847                74.102448   \n",
      "3              10.772559        0.974670                73.000000   \n",
      "4              11.087804        0.952487                73.200783   \n",
      "\n",
      "   Freedom to make life choices  Generosity  Perceptions of corruption  \\\n",
      "0                      0.949172   -0.059482                   0.195445   \n",
      "1                      0.951444    0.066202                   0.168489   \n",
      "2                      0.921337    0.105911                   0.303728   \n",
      "3                      0.948892    0.246944                   0.711710   \n",
      "4                      0.955750    0.134533                   0.263218   \n",
      "\n",
      "   Ladder score in Dystopia  Explained by: Log GDP per capita  \\\n",
      "0                  1.972317                          1.285190   \n",
      "1                  1.972317                          1.326949   \n",
      "2                  1.972317                          1.390774   \n",
      "3                  1.972317                          1.326502   \n",
      "4                  1.972317                          1.424207   \n",
      "\n",
      "   Explained by: Social support  Explained by: Healthy life expectancy  \\\n",
      "0                      1.499526                               0.961271   \n",
      "1                      1.503449                               0.979333   \n",
      "2                      1.472403                               1.040533   \n",
      "3                      1.547567                               1.000843   \n",
      "4                      1.495173                               1.008072   \n",
      "\n",
      "   Explained by: Freedom to make life choices  Explained by: Generosity  \\\n",
      "0                                    0.662317                  0.159670   \n",
      "1                                    0.665040                  0.242793   \n",
      "2                                    0.628954                  0.269056   \n",
      "3                                    0.661981                  0.362330   \n",
      "4                                    0.670201                  0.287985   \n",
      "\n",
      "   Explained by: Perceptions of corruption  Dystopia + residual  \n",
      "0                                 0.477857             2.762835  \n",
      "1                                 0.495260             2.432741  \n",
      "2                                 0.407946             2.350267  \n",
      "3                                 0.144541             2.460688  \n",
      "4                                 0.434101             2.168266  \n",
      "                 Country name  Regional indicator  Ladder score  \\\n",
      "148  Central African Republic  Sub-Saharan Africa        3.4759   \n",
      "149                    Rwanda  Sub-Saharan Africa        3.3123   \n",
      "150                  Zimbabwe  Sub-Saharan Africa        3.2992   \n",
      "151               South Sudan  Sub-Saharan Africa        2.8166   \n",
      "152               Afghanistan          South Asia        2.5669   \n",
      "\n",
      "     Standard error of ladder score  upperwhisker  lowerwhisker  \\\n",
      "148                        0.115183      3.701658      3.250141   \n",
      "149                        0.052425      3.415053      3.209547   \n",
      "150                        0.058674      3.414202      3.184198   \n",
      "151                        0.107610      3.027516      2.605684   \n",
      "152                        0.031311      2.628270      2.505530   \n",
      "\n",
      "     Logged GDP per capita  Social support  Healthy life expectancy  \\\n",
      "148               6.625160        0.319460                45.200001   \n",
      "149               7.600104        0.540835                61.098846   \n",
      "150               7.865712        0.763093                55.617260   \n",
      "151               7.425360        0.553707                51.000000   \n",
      "152               7.462861        0.470367                52.590000   \n",
      "\n",
      "     Freedom to make life choices  Generosity  Perceptions of corruption  \\\n",
      "148                      0.640881    0.082410                   0.891807   \n",
      "149                      0.900589    0.055484                   0.183541   \n",
      "150                      0.711458   -0.072064                   0.810237   \n",
      "151                      0.451314    0.016519                   0.763417   \n",
      "152                      0.396573   -0.096429                   0.933687   \n",
      "\n",
      "     Ladder score in Dystopia  Explained by: Log GDP per capita  \\\n",
      "148                  1.972317                          0.041072   \n",
      "149                  1.972317                          0.343243   \n",
      "150                  1.972317                          0.425564   \n",
      "151                  1.972317                          0.289083   \n",
      "152                  1.972317                          0.300706   \n",
      "\n",
      "     Explained by: Social support  Explained by: Healthy life expectancy  \\\n",
      "148                      0.000000                               0.000000   \n",
      "149                      0.522876                               0.572383   \n",
      "150                      1.047835                               0.375038   \n",
      "151                      0.553279                               0.208809   \n",
      "152                      0.356434                               0.266052   \n",
      "\n",
      "     Explained by: Freedom to make life choices  Explained by: Generosity  \\\n",
      "148                                    0.292814                  0.253513   \n",
      "149                                    0.604088                  0.235705   \n",
      "150                                    0.377405                  0.151349   \n",
      "151                                    0.065609                  0.209935   \n",
      "152                                    0.000000                  0.135235   \n",
      "\n",
      "     Explained by: Perceptions of corruption  Dystopia + residual  \n",
      "148                                 0.028265             2.860198  \n",
      "149                                 0.485542             0.548445  \n",
      "150                                 0.080929             0.841031  \n",
      "151                                 0.111157             1.378751  \n",
      "152                                 0.001226             1.507236  \n",
      "(153, 20)\n"
     ]
    }
   ],
   "source": [
    "happiness_file = \"./data/Happiness.csv\"\n",
    "happiness_df = pd.read_csv(happiness_file, header=0)\n",
    "\n",
    "print(happiness_df.head())\n",
    "print(happiness_df.tail())\n",
    "print(happiness_df.shape)"
   ]
  },
  {
   "cell_type": "code",
   "execution_count": 10,
   "metadata": {},
   "outputs": [
    {
     "name": "stdout",
     "output_type": "stream",
     "text": [
      "0\n"
     ]
    }
   ],
   "source": [
    "print(happiness_df.duplicated().sum())"
   ]
  },
  {
   "cell_type": "code",
   "execution_count": 11,
   "metadata": {},
   "outputs": [
    {
     "name": "stdout",
     "output_type": "stream",
     "text": [
      "Index(['Country name', 'Regional indicator', 'Ladder score',\n",
      "       'Standard error of ladder score', 'upperwhisker', 'lowerwhisker',\n",
      "       'Logged GDP per capita', 'Social support', 'Healthy life expectancy',\n",
      "       'Freedom to make life choices', 'Generosity',\n",
      "       'Perceptions of corruption', 'Ladder score in Dystopia',\n",
      "       'Explained by: Log GDP per capita', 'Explained by: Social support',\n",
      "       'Explained by: Healthy life expectancy',\n",
      "       'Explained by: Freedom to make life choices',\n",
      "       'Explained by: Generosity', 'Explained by: Perceptions of corruption',\n",
      "       'Dystopia + residual'],\n",
      "      dtype='object')\n"
     ]
    }
   ],
   "source": [
    "print(happiness_df.columns)"
   ]
  },
  {
   "cell_type": "code",
   "execution_count": 14,
   "metadata": {},
   "outputs": [
    {
     "name": "stdout",
     "output_type": "stream",
     "text": [
      "  Country name  year  Life Ladder  Log GDP per capita  Social support  \\\n",
      "0  Afghanistan  2008        3.724               7.370           0.451   \n",
      "1  Afghanistan  2009        4.402               7.540           0.552   \n",
      "2  Afghanistan  2010        4.758               7.647           0.539   \n",
      "3  Afghanistan  2011        3.832               7.620           0.521   \n",
      "4  Afghanistan  2012        3.783               7.705           0.521   \n",
      "\n",
      "   Healthy life expectancy at birth  Freedom to make life choices  Generosity  \\\n",
      "0                             50.80                         0.718       0.168   \n",
      "1                             51.20                         0.679       0.190   \n",
      "2                             51.60                         0.600       0.121   \n",
      "3                             51.92                         0.496       0.162   \n",
      "4                             52.24                         0.531       0.236   \n",
      "\n",
      "   Perceptions of corruption  Positive affect  Negative affect  \n",
      "0                      0.882            0.518            0.258  \n",
      "1                      0.850            0.584            0.237  \n",
      "2                      0.707            0.618            0.275  \n",
      "3                      0.731            0.611            0.267  \n",
      "4                      0.776            0.710            0.268  \n",
      "     Country name  year  Life Ladder  Log GDP per capita  Social support  \\\n",
      "1944     Zimbabwe  2016        3.735               7.984           0.768   \n",
      "1945     Zimbabwe  2017        3.638               8.016           0.754   \n",
      "1946     Zimbabwe  2018        3.616               8.049           0.775   \n",
      "1947     Zimbabwe  2019        2.694               7.950           0.759   \n",
      "1948     Zimbabwe  2020        3.160               7.829           0.717   \n",
      "\n",
      "      Healthy life expectancy at birth  Freedom to make life choices  \\\n",
      "1944                              54.4                         0.733   \n",
      "1945                              55.0                         0.753   \n",
      "1946                              55.6                         0.763   \n",
      "1947                              56.2                         0.632   \n",
      "1948                              56.8                         0.643   \n",
      "\n",
      "      Generosity  Perceptions of corruption  Positive affect  Negative affect  \n",
      "1944      -0.095                      0.724            0.738            0.209  \n",
      "1945      -0.098                      0.751            0.806            0.224  \n",
      "1946      -0.068                      0.844            0.710            0.212  \n",
      "1947      -0.064                      0.831            0.716            0.235  \n",
      "1948      -0.009                      0.789            0.703            0.346  \n",
      "(1949, 11)\n"
     ]
    }
   ],
   "source": [
    "world_happiness_file = \"./data/world-happiness-report.csv\"\n",
    "world_happiness_df = pd.read_csv(world_happiness_file, header=0)\n",
    "\n",
    "print(world_happiness_df.head())\n",
    "print(world_happiness_df.tail())\n",
    "print(world_happiness_df.shape)"
   ]
  },
  {
   "cell_type": "code",
   "execution_count": 15,
   "metadata": {},
   "outputs": [
    {
     "name": "stdout",
     "output_type": "stream",
     "text": [
      "0\n"
     ]
    }
   ],
   "source": [
    "print(world_happiness_df.duplicated().sum())"
   ]
  }
 ],
 "metadata": {
  "kernelspec": {
   "display_name": "Python 3.7.15 ('venv': venv)",
   "language": "python",
   "name": "python3"
  },
  "language_info": {
   "codemirror_mode": {
    "name": "ipython",
    "version": 3
   },
   "file_extension": ".py",
   "mimetype": "text/x-python",
   "name": "python",
   "nbconvert_exporter": "python",
   "pygments_lexer": "ipython3",
   "version": "3.7.15"
  },
  "orig_nbformat": 4,
  "vscode": {
   "interpreter": {
    "hash": "845cf280cfe575b4e32beec92cafcfb3101b0d777fba5073a6d34cec3ca45c98"
   }
  }
 },
 "nbformat": 4,
 "nbformat_minor": 2
}
